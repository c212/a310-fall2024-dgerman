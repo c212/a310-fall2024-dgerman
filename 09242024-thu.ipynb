{
  "nbformat": 4,
  "nbformat_minor": 0,
  "metadata": {
    "colab": {
      "provenance": []
    },
    "kernelspec": {
      "name": "python3",
      "display_name": "Python 3"
    },
    "language_info": {
      "name": "python"
    }
  },
  "cells": [
    {
      "cell_type": "code",
      "execution_count": null,
      "metadata": {
        "colab": {
          "base_uri": "https://localhost:8080/"
        },
        "id": "7sJt7bEkgRQt",
        "outputId": "11d373b4-abae-401c-a212-66f3b74dedcd"
      },
      "outputs": [
        {
          "output_type": "stream",
          "name": "stdout",
          "text": [
            "28.761\n"
          ]
        }
      ],
      "source": [
        "import random\n",
        "\n",
        "(times, yes) = (100000, 0)\n",
        "\n",
        "for t in range(times):\n",
        "  s = \"\"\n",
        "  for i in range(100):\n",
        "    coin = random.randint(0, 1)\n",
        "    s = str(coin) + s\n",
        "  if \"111111\" in s and \"000000\" in s:\n",
        "    yes += 1\n",
        "print( yes / times * 100)\n"
      ]
    },
    {
      "cell_type": "code",
      "source": [
        "size=43\n",
        "for i in range(size):\n",
        "  for j in range(size):\n",
        "    if (i + j == int(size/2) or i == size//2 and j <= size*3/4 or j == size//2 and i >= size//3) :\n",
        "      print(\"* \",end=\"\")\n",
        "    else:\n",
        "      print(\"  \",end=\"\")\n",
        "  print()"
      ],
      "metadata": {
        "colab": {
          "base_uri": "https://localhost:8080/"
        },
        "id": "lD1kNAQpgjhS",
        "outputId": "fe025f80-406b-4e33-baa4-a0b462a1ff85"
      },
      "execution_count": null,
      "outputs": [
        {
          "output_type": "stream",
          "name": "stdout",
          "text": [
            "                                          *                                           \n",
            "                                        *                                             \n",
            "                                      *                                               \n",
            "                                    *                                                 \n",
            "                                  *                                                   \n",
            "                                *                                                     \n",
            "                              *                                                       \n",
            "                            *                                                         \n",
            "                          *                                                           \n",
            "                        *                                                             \n",
            "                      *                                                               \n",
            "                    *                                                                 \n",
            "                  *                                                                   \n",
            "                *                                                                     \n",
            "              *                           *                                           \n",
            "            *                             *                                           \n",
            "          *                               *                                           \n",
            "        *                                 *                                           \n",
            "      *                                   *                                           \n",
            "    *                                     *                                           \n",
            "  *                                       *                                           \n",
            "* * * * * * * * * * * * * * * * * * * * * * * * * * * * * * * * *                     \n",
            "                                          *                                           \n",
            "                                          *                                           \n",
            "                                          *                                           \n",
            "                                          *                                           \n",
            "                                          *                                           \n",
            "                                          *                                           \n",
            "                                          *                                           \n",
            "                                          *                                           \n",
            "                                          *                                           \n",
            "                                          *                                           \n",
            "                                          *                                           \n",
            "                                          *                                           \n",
            "                                          *                                           \n",
            "                                          *                                           \n",
            "                                          *                                           \n",
            "                                          *                                           \n",
            "                                          *                                           \n",
            "                                          *                                           \n",
            "                                          *                                           \n",
            "                                          *                                           \n",
            "                                          *                                           \n"
          ]
        }
      ]
    },
    {
      "cell_type": "code",
      "source": [
        "import random\n",
        "\n",
        "(yes, times) = (0, 10000)\n",
        "\n",
        "for t in range(times):\n",
        "  r= \"\"\n",
        "  for i in range (100):\n",
        "    a = random.randint(0, 1)\n",
        "    r = r + str(a)\n",
        "  # print (r)\n",
        "  if \"000000\" in r or \"111111\" in r:\n",
        "  # if \"111111\" in r:\n",
        "    yes += 1\n",
        "print (yes / times * 100.0)"
      ],
      "metadata": {
        "id": "MlQGVxECo9h7",
        "colab": {
          "base_uri": "https://localhost:8080/"
        },
        "outputId": "71ce7a19-493b-4f9b-88d2-5cd82bda61f6"
      },
      "execution_count": null,
      "outputs": [
        {
          "output_type": "stream",
          "name": "stdout",
          "text": [
            "80.06\n"
          ]
        }
      ]
    },
    {
      "cell_type": "code",
      "source": [
        "import random\n",
        "\n",
        "(yes, times) = (0, 10000)\n",
        "\n",
        "for t in range(times): # do the experiment 10000 times\n",
        "  r= \"\" # this is the string at the beginning\n",
        "  for i in range (100): # throw 100 coins\n",
        "    a = random.randint(0, 1) # random coin\n",
        "    r = r + str(a) # string grows\n",
        "  for j in range(100 - 6): # for 94 times (each time looking at six adjacent positions)\n",
        "    if r[0:6] in [\"000000\"]: #, \"111111\"]: # if I see a 000000 or a 111111\n",
        "    # I am looking at the first six characters in the string\n",
        "      yes += 1 # count that as a success\n",
        "      # print(r, \"***\")\n",
        "    # else:\n",
        "      # print (r)\n",
        "    r = r[1:] # cut the first character out\n",
        "    # print(r)\n",
        "  # print(yes)\n",
        "print (yes / (times * 94) * 100)"
      ],
      "metadata": {
        "colab": {
          "base_uri": "https://localhost:8080/"
        },
        "id": "GbJuw4wA0HAm",
        "outputId": "fb073247-1ad5-435f-b49e-5ca893c841b3"
      },
      "execution_count": null,
      "outputs": [
        {
          "output_type": "stream",
          "name": "stdout",
          "text": [
            "1.5745744680851066\n"
          ]
        }
      ]
    },
    {
      "cell_type": "code",
      "source": [
        "q = lambda l: q( [x for x in l[1:] if x >= l[0]]) + [l[0]] + q([x for x in l if x < l[0]]) if l else []"
      ],
      "metadata": {
        "id": "qNF519cP0S2x"
      },
      "execution_count": null,
      "outputs": []
    },
    {
      "cell_type": "code",
      "source": [
        "q ([3, 5, 2, 4, 6, 1, 2, 7, 4, 3])"
      ],
      "metadata": {
        "colab": {
          "base_uri": "https://localhost:8080/"
        },
        "id": "eFJpEJcR36lG",
        "outputId": "9839a180-2ecb-4f0d-854b-f954db71e7ac"
      },
      "execution_count": null,
      "outputs": [
        {
          "output_type": "execute_result",
          "data": {
            "text/plain": [
              "[7, 6, 5, 4, 4, 3, 3, 2, 2, 1]"
            ]
          },
          "metadata": {},
          "execution_count": 17
        }
      ]
    },
    {
      "cell_type": "code",
      "source": [
        "import math\n",
        "\n",
        "class Point:\n",
        "    def __init__(self, x, y):\n",
        "        self.x = x\n",
        "        self.y = y\n",
        "    def __str__(self):\n",
        "        return \"(\" + str(self.x) + \", \" + str(self.y) + \")\"\n",
        "    def distanceTo(self, other):\n",
        "        distance = math.sqrt((self.x - other.x)**2 + (self.y - other.y)**2)\n",
        "        # return \"The distance between the two points is: \" + str(distance)\n",
        "        return distance"
      ],
      "metadata": {
        "id": "R0DRzSdy4KMz"
      },
      "execution_count": null,
      "outputs": []
    },
    {
      "cell_type": "code",
      "source": [
        "a = Point(2, 3)"
      ],
      "metadata": {
        "id": "0I6gvfl35w-v"
      },
      "execution_count": null,
      "outputs": []
    },
    {
      "cell_type": "code",
      "source": [
        "b = Point(1, 1)\n",
        "print(b.distanceTo(a))"
      ],
      "metadata": {
        "colab": {
          "base_uri": "https://localhost:8080/"
        },
        "id": "2J1I75Jg57Wf",
        "outputId": "3489ceb5-47ea-48a1-c475-b3bc2cbc3e32"
      },
      "execution_count": null,
      "outputs": [
        {
          "output_type": "stream",
          "name": "stdout",
          "text": [
            "2.23606797749979\n"
          ]
        }
      ]
    },
    {
      "cell_type": "code",
      "source": [
        "class Line:\n",
        "    def __init__(self, p1, p2):\n",
        "        self.p1 = p1\n",
        "        self.p2 = p2\n",
        "    def __str__(self):\n",
        "        return \"(\" + str(self.p1) + \", \" + str(self.p2) + \")\"\n",
        "    def length(self):\n",
        "        a = self.p2.distanceTo(self.p1)\n",
        "        return a"
      ],
      "metadata": {
        "id": "u5NE5mpU5_qP"
      },
      "execution_count": null,
      "outputs": []
    },
    {
      "cell_type": "code",
      "source": [
        "(Line(a, b)).length()"
      ],
      "metadata": {
        "colab": {
          "base_uri": "https://localhost:8080/"
        },
        "id": "chsOFhJ66K3n",
        "outputId": "0dc1da8d-5fe5-4e33-9262-31fc70d093be"
      },
      "execution_count": null,
      "outputs": [
        {
          "output_type": "execute_result",
          "data": {
            "text/plain": [
              "2.23606797749979"
            ]
          },
          "metadata": {},
          "execution_count": 36
        }
      ]
    },
    {
      "cell_type": "code",
      "source": [
        "class Triangle:\n",
        "    def __init__(self, p1, p2, p3):\n",
        "        self.l1 = Line(p1,p2)\n",
        "        self.l2 = Line(p2,p3)\n",
        "        self.l3 = Line(p3,p1)\n",
        "    def __str__(self):\n",
        "        return \"Triangle {\" + str(self.l1.p1) + \", \" + str(self.l2.p1) + \", \" + str(self.l3.p1) + \"}\"\n",
        "    def area(self):\n",
        "        x = (self.l1.length() + self.l2.length() + self.l3.length())/2\n",
        "        a = math.sqrt(x*(x - self.l1.length())*(x - self.l2.length())*(x - self.l3.length()))\n",
        "        return a"
      ],
      "metadata": {
        "id": "aROuS6fL6apQ"
      },
      "execution_count": null,
      "outputs": []
    },
    {
      "cell_type": "code",
      "source": [
        "t = Triangle( Point(0, 0), Point(3, 0), Point(0, 4) )"
      ],
      "metadata": {
        "id": "By-u7XDE6lRP"
      },
      "execution_count": null,
      "outputs": []
    },
    {
      "cell_type": "code",
      "source": [
        "t.area()"
      ],
      "metadata": {
        "colab": {
          "base_uri": "https://localhost:8080/"
        },
        "id": "dJB9HTHf7nwJ",
        "outputId": "dd660642-2629-42a6-c2f6-71592213ebe4"
      },
      "execution_count": null,
      "outputs": [
        {
          "output_type": "execute_result",
          "data": {
            "text/plain": [
              "6.0"
            ]
          },
          "metadata": {},
          "execution_count": 38
        }
      ]
    },
    {
      "cell_type": "code",
      "source": [],
      "metadata": {
        "id": "IRuliZxI7vd6"
      },
      "execution_count": null,
      "outputs": []
    }
  ]
}
