{
  "nbformat": 4,
  "nbformat_minor": 0,
  "metadata": {
    "colab": {
      "provenance": []
    },
    "kernelspec": {
      "name": "python3",
      "display_name": "Python 3"
    },
    "language_info": {
      "name": "python"
    }
  },
  "cells": [
    {
      "cell_type": "code",
      "execution_count": 1,
      "metadata": {
        "id": "lrZL2PFBtjay"
      },
      "outputs": [],
      "source": [
        "import re"
      ]
    },
    {
      "cell_type": "code",
      "source": [
        "word = \"12345\""
      ],
      "metadata": {
        "id": "nWsi-krKtmuK"
      },
      "execution_count": 2,
      "outputs": []
    },
    {
      "cell_type": "code",
      "source": [
        "def nuf(a, b):\n",
        "  return int(a) + int(b)\n",
        "def fun(match):\n",
        "  a = nuf(match.group(1), match.group(2))\n",
        "  print(match)\n",
        "  return str(a)\n",
        "result = re.sub('(\\d)(\\d)', fun, word)\n"
      ],
      "metadata": {
        "colab": {
          "base_uri": "https://localhost:8080/"
        },
        "id": "fHl-Tn8atoKD",
        "outputId": "7f115e31-d550-480d-9cff-40c0f2875973"
      },
      "execution_count": 5,
      "outputs": [
        {
          "output_type": "stream",
          "name": "stdout",
          "text": [
            "<re.Match object; span=(0, 2), match='12'>\n",
            "<re.Match object; span=(2, 4), match='34'>\n"
          ]
        }
      ]
    },
    {
      "cell_type": "code",
      "source": [
        "result"
      ],
      "metadata": {
        "colab": {
          "base_uri": "https://localhost:8080/",
          "height": 36
        },
        "id": "DwDVMJN8t_-3",
        "outputId": "6e3aa100-a130-48fd-de92-89363010e036"
      },
      "execution_count": 6,
      "outputs": [
        {
          "output_type": "execute_result",
          "data": {
            "text/plain": [
              "'375'"
            ],
            "application/vnd.google.colaboratory.intrinsic+json": {
              "type": "string"
            }
          },
          "metadata": {},
          "execution_count": 6
        }
      ]
    },
    {
      "cell_type": "code",
      "source": [
        "text = ['this is nice', 'how nice', 'not nice', 'very bad']"
      ],
      "metadata": {
        "id": "yhwLYEg8uINS"
      },
      "execution_count": 7,
      "outputs": []
    },
    {
      "cell_type": "code",
      "source": [
        "mark = map(lambda num: num + 1, [8, 1, 2, 3, 2, 5])"
      ],
      "metadata": {
        "id": "MQn9R5hFuN4g"
      },
      "execution_count": 15,
      "outputs": []
    },
    {
      "cell_type": "code",
      "source": [
        "mark"
      ],
      "metadata": {
        "colab": {
          "base_uri": "https://localhost:8080/"
        },
        "id": "u4uTuGRCuVPh",
        "outputId": "73d30afc-40f3-4927-8c35-8f5ba11b9d0e"
      },
      "execution_count": 16,
      "outputs": [
        {
          "output_type": "execute_result",
          "data": {
            "text/plain": [
              "<map at 0x7d2aab2e27a0>"
            ]
          },
          "metadata": {},
          "execution_count": 16
        }
      ]
    },
    {
      "cell_type": "code",
      "source": [
        "list(mark)"
      ],
      "metadata": {
        "colab": {
          "base_uri": "https://localhost:8080/"
        },
        "id": "87Val0QJuWd1",
        "outputId": "c1af1184-cb2f-47f0-85bf-e2dae7b0938c"
      },
      "execution_count": 17,
      "outputs": [
        {
          "output_type": "execute_result",
          "data": {
            "text/plain": [
              "[9, 2, 3, 4, 3, 6]"
            ]
          },
          "metadata": {},
          "execution_count": 17
        }
      ]
    },
    {
      "cell_type": "code",
      "source": [
        "print(list(mark))"
      ],
      "metadata": {
        "colab": {
          "base_uri": "https://localhost:8080/"
        },
        "id": "fWBJtcdFuYlX",
        "outputId": "342c0826-544c-44ca-af4b-73670bac6ff3"
      },
      "execution_count": 18,
      "outputs": [
        {
          "output_type": "stream",
          "name": "stdout",
          "text": [
            "[]\n"
          ]
        }
      ]
    },
    {
      "cell_type": "code",
      "source": [
        "def meh(one):\n",
        "  return (True, one) if 'nice' in one else (False, one)"
      ],
      "metadata": {
        "id": "n7Wy1iWEuabq"
      },
      "execution_count": 19,
      "outputs": []
    },
    {
      "cell_type": "code",
      "source": [
        "mark = map(meh, text)"
      ],
      "metadata": {
        "id": "6xEMO2ZQuo5u"
      },
      "execution_count": 21,
      "outputs": []
    },
    {
      "cell_type": "code",
      "source": [
        "print(list(mark))"
      ],
      "metadata": {
        "colab": {
          "base_uri": "https://localhost:8080/"
        },
        "id": "k59i3WGWurlT",
        "outputId": "f5b7e4fc-3277-4d15-b6f3-0c0d716f05f1"
      },
      "execution_count": 22,
      "outputs": [
        {
          "output_type": "stream",
          "name": "stdout",
          "text": [
            "[(True, 'this is nice'), (True, 'how nice'), (True, 'not nice'), (False, 'very bad')]\n"
          ]
        }
      ]
    },
    {
      "cell_type": "code",
      "source": [
        "list(mark)"
      ],
      "metadata": {
        "colab": {
          "base_uri": "https://localhost:8080/"
        },
        "id": "JwwwgJ8bu0Kz",
        "outputId": "d13aa13d-0a23-4b60-dd48-9af63a6714c1"
      },
      "execution_count": 23,
      "outputs": [
        {
          "output_type": "execute_result",
          "data": {
            "text/plain": [
              "[]"
            ]
          },
          "metadata": {},
          "execution_count": 23
        }
      ]
    },
    {
      "cell_type": "code",
      "source": [
        "word = \"I am so happy right now\""
      ],
      "metadata": {
        "id": "pVKDi6LTu2fs"
      },
      "execution_count": 24,
      "outputs": []
    },
    {
      "cell_type": "code",
      "source": [
        "result1 = re.sub('(\\w)', r'(\\1)', word)"
      ],
      "metadata": {
        "id": "SlYQpBYou40P"
      },
      "execution_count": 25,
      "outputs": []
    },
    {
      "cell_type": "code",
      "source": [
        "result1"
      ],
      "metadata": {
        "colab": {
          "base_uri": "https://localhost:8080/",
          "height": 36
        },
        "id": "6HGyc-MRvAvY",
        "outputId": "5038d09a-f7d0-4cc8-e840-2e34fc5eeb37"
      },
      "execution_count": 26,
      "outputs": [
        {
          "output_type": "execute_result",
          "data": {
            "text/plain": [
              "'(I) (a)(m) (s)(o) (h)(a)(p)(p)(y) (r)(i)(g)(h)(t) (n)(o)(w)'"
            ],
            "application/vnd.google.colaboratory.intrinsic+json": {
              "type": "string"
            }
          },
          "metadata": {},
          "execution_count": 26
        }
      ]
    },
    {
      "cell_type": "code",
      "source": [
        "print(result1)"
      ],
      "metadata": {
        "colab": {
          "base_uri": "https://localhost:8080/"
        },
        "id": "jPU7jNplvBrf",
        "outputId": "8c001ce5-869a-461f-9338-6ba636e6e1e9"
      },
      "execution_count": 27,
      "outputs": [
        {
          "output_type": "stream",
          "name": "stdout",
          "text": [
            "(I) (a)(m) (s)(o) (h)(a)(p)(p)(y) (r)(i)(g)(h)(t) (n)(o)(w)\n"
          ]
        }
      ]
    },
    {
      "cell_type": "code",
      "source": [
        "result2 = re.sub('(\\w)', '(\\\\1)', word)\n",
        "print(result2)"
      ],
      "metadata": {
        "colab": {
          "base_uri": "https://localhost:8080/"
        },
        "id": "ra4cSfLRvDRH",
        "outputId": "f5977d44-656d-419f-ad3e-6eaec445b1d7"
      },
      "execution_count": 29,
      "outputs": [
        {
          "output_type": "stream",
          "name": "stdout",
          "text": [
            "(I) (a)(m) (s)(o) (h)(a)(p)(p)(y) (r)(i)(g)(h)(t) (n)(o)(w)\n"
          ]
        }
      ]
    },
    {
      "cell_type": "code",
      "source": [
        "input = \"Once 9123 upon a 4567 there was a 12389\"\n",
        "print(input)"
      ],
      "metadata": {
        "colab": {
          "base_uri": "https://localhost:8080/"
        },
        "id": "nS2sSttKvK7u",
        "outputId": "9f50e235-e1d6-4f72-8942-102de71722b1"
      },
      "execution_count": 30,
      "outputs": [
        {
          "output_type": "stream",
          "name": "stdout",
          "text": [
            "Once 9123 upon a 4567 there was a 12389\n"
          ]
        }
      ]
    },
    {
      "cell_type": "code",
      "source": [
        "result = re.findall('\\d\\d', input)"
      ],
      "metadata": {
        "id": "nTP2NHYQ6Zg-"
      },
      "execution_count": 31,
      "outputs": []
    },
    {
      "cell_type": "code",
      "source": [
        "result"
      ],
      "metadata": {
        "colab": {
          "base_uri": "https://localhost:8080/"
        },
        "id": "KkvV87u66fyG",
        "outputId": "9ac47813-d271-4a07-bcd3-98df19d4c4e0"
      },
      "execution_count": 32,
      "outputs": [
        {
          "output_type": "execute_result",
          "data": {
            "text/plain": [
              "['91', '23', '45', '67', '12', '38']"
            ]
          },
          "metadata": {},
          "execution_count": 32
        }
      ]
    },
    {
      "cell_type": "code",
      "source": [
        "something = \"Alex 28\"\n",
        "print(input)\n",
        "result = re.sub('\\d\\d', '-', input)\n",
        "print(result) # ----9"
      ],
      "metadata": {
        "colab": {
          "base_uri": "https://localhost:8080/"
        },
        "id": "recA5SOO6gm1",
        "outputId": "611cdee6-cccd-4f59-fd1d-e994a250f481"
      },
      "execution_count": 33,
      "outputs": [
        {
          "output_type": "stream",
          "name": "stdout",
          "text": [
            "Once 9123 upon a 4567 there was a 12389\n",
            "Once -- upon a -- there was a --9\n"
          ]
        }
      ]
    },
    {
      "cell_type": "code",
      "source": [
        "result = re.sub('\\d((\\d)(\\d))\\d', r'\\1+\\3', input)    # Replace a string with a part of itself\n",
        "print(result)\n"
      ],
      "metadata": {
        "colab": {
          "base_uri": "https://localhost:8080/"
        },
        "id": "FAI_fou16tje",
        "outputId": "5f57a15e-0ef6-4bd5-977f-6783c3ccb927"
      },
      "execution_count": 34,
      "outputs": [
        {
          "output_type": "stream",
          "name": "stdout",
          "text": [
            "Once 12+2 upon a 56+6 there was a 23+39\n"
          ]
        }
      ]
    },
    {
      "cell_type": "code",
      "source": [
        "julianne = \"2364523\"\n",
        "result = re.sub('(\\d)(\\d)', r'\\2\\1', input) # julianne) # 3246253\n",
        "print(result)"
      ],
      "metadata": {
        "colab": {
          "base_uri": "https://localhost:8080/"
        },
        "id": "cL777csT64DJ",
        "outputId": "1ab9475e-4b58-49e5-a474-3cc07f911be2"
      },
      "execution_count": 36,
      "outputs": [
        {
          "output_type": "stream",
          "name": "stdout",
          "text": [
            "Once 1932 upon a 5476 there was a 21839\n"
          ]
        }
      ]
    },
    {
      "cell_type": "code",
      "source": [
        "result = re.sub('(\\d)(\\d)', r'\\1+\\2', input) # julianne) # 2+36+45+23\n",
        "print(result)"
      ],
      "metadata": {
        "colab": {
          "base_uri": "https://localhost:8080/"
        },
        "id": "41URjn3K7S0g",
        "outputId": "ce687c4a-1e3c-4b06-ce5c-7e0bf50faa4c"
      },
      "execution_count": 37,
      "outputs": [
        {
          "output_type": "stream",
          "name": "stdout",
          "text": [
            "Once 9+12+3 upon a 4+56+7 there was a 1+23+89\n"
          ]
        }
      ]
    },
    {
      "cell_type": "code",
      "source": [
        "result = re.sub('(\\d)(\\d)', r'int(\\1)', julianne) # 51073\n",
        "print(result)"
      ],
      "metadata": {
        "colab": {
          "base_uri": "https://localhost:8080/"
        },
        "id": "uUTjVgv27ers",
        "outputId": "76eb98e1-4ccb-4abc-ecce-4ec313159374"
      },
      "execution_count": 38,
      "outputs": [
        {
          "output_type": "stream",
          "name": "stdout",
          "text": [
            "int(2)int(6)int(5)3\n"
          ]
        }
      ]
    },
    {
      "cell_type": "code",
      "source": [
        "def add_two(match):\n",
        "    return str(int(match.group()) + 2)\n",
        "\n",
        "s = 'Alex 28'\n",
        "result = re.sub(r'(\\d+)', add_two, s)\n",
        "print(result)"
      ],
      "metadata": {
        "colab": {
          "base_uri": "https://localhost:8080/"
        },
        "id": "aVuZQdSC7lku",
        "outputId": "63bebe1f-75f2-4691-f4f1-64b2f211418d"
      },
      "execution_count": 40,
      "outputs": [
        {
          "output_type": "stream",
          "name": "stdout",
          "text": [
            "Alex 30\n"
          ]
        }
      ]
    },
    {
      "cell_type": "code",
      "source": [
        "suraj = re.sub(r'(\\d)(\\d)', lambda m: str(int(m.group(1)) + int(m.group(2))), s)\n",
        "print(suraj)"
      ],
      "metadata": {
        "colab": {
          "base_uri": "https://localhost:8080/"
        },
        "id": "-jMLcbCX7sWN",
        "outputId": "8008c0ed-7a32-400d-8f47-9db9b206f94c"
      },
      "execution_count": 41,
      "outputs": [
        {
          "output_type": "stream",
          "name": "stdout",
          "text": [
            "Alex 10\n"
          ]
        }
      ]
    },
    {
      "cell_type": "code",
      "source": [
        "linjun = \"12345\"\n",
        "suraj = re.sub(r'(\\d)(\\d)', lambda m: m.group(2) + m.group(1), linjun)\n",
        "                #                     \\2           \\1\n",
        "print(suraj) # 21435"
      ],
      "metadata": {
        "colab": {
          "base_uri": "https://localhost:8080/"
        },
        "id": "WOCr7jXZ74GN",
        "outputId": "f8b6af57-9e0d-420a-850d-90cc5410adb0"
      },
      "execution_count": 45,
      "outputs": [
        {
          "output_type": "stream",
          "name": "stdout",
          "text": [
            "21435\n"
          ]
        }
      ]
    },
    {
      "cell_type": "code",
      "source": [
        "text = \"I am here.\"\n",
        "text = re.sub('(\\w)', r'(\\1)', text)\n",
        "print(text) # (I) (a)(m) (h)(e)(r)(e)."
      ],
      "metadata": {
        "colab": {
          "base_uri": "https://localhost:8080/"
        },
        "id": "862Yo1IA7_2c",
        "outputId": "2e1f9800-0995-4700-b4bd-9f8d3beb58f8"
      },
      "execution_count": 47,
      "outputs": [
        {
          "output_type": "stream",
          "name": "stdout",
          "text": [
            "(I) (a)(m) (h)(e)(r)(e).\n"
          ]
        }
      ]
    },
    {
      "cell_type": "code",
      "source": [
        "print(linjun)\n",
        "suraj = re.sub(r'(\\d)(\\d)', fun, linjun)"
      ],
      "metadata": {
        "colab": {
          "base_uri": "https://localhost:8080/"
        },
        "id": "g0y3m4kY8V1b",
        "outputId": "51172a32-cc42-4fb0-a451-79aea18f9d93"
      },
      "execution_count": 53,
      "outputs": [
        {
          "output_type": "stream",
          "name": "stdout",
          "text": [
            "12345\n",
            "<re.Match object; span=(0, 2), match='12'>\n",
            "<re.Match object; span=(2, 4), match='34'>\n"
          ]
        }
      ]
    },
    {
      "cell_type": "code",
      "source": [
        "suraj"
      ],
      "metadata": {
        "colab": {
          "base_uri": "https://localhost:8080/",
          "height": 36
        },
        "id": "yrlgMIMI8aZc",
        "outputId": "24e36088-2ef9-4345-d220-2d85c35a22b6"
      },
      "execution_count": 54,
      "outputs": [
        {
          "output_type": "execute_result",
          "data": {
            "text/plain": [
              "'375'"
            ],
            "application/vnd.google.colaboratory.intrinsic+json": {
              "type": "string"
            }
          },
          "metadata": {},
          "execution_count": 54
        }
      ]
    },
    {
      "cell_type": "code",
      "source": [],
      "metadata": {
        "id": "9sBHblGE8vP0"
      },
      "execution_count": null,
      "outputs": []
    }
  ]
}