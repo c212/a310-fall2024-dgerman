{
  "nbformat": 4,
  "nbformat_minor": 0,
  "metadata": {
    "colab": {
      "provenance": []
    },
    "kernelspec": {
      "name": "python3",
      "display_name": "Python 3"
    },
    "language_info": {
      "name": "python"
    }
  },
  "cells": [
    {
      "cell_type": "code",
      "execution_count": null,
      "metadata": {
        "colab": {
          "base_uri": "https://localhost:8080/"
        },
        "id": "7sJt7bEkgRQt",
        "outputId": "3af0fa1b-e0ea-4544-d162-1c86d87b82fd"
      },
      "outputs": [
        {
          "output_type": "stream",
          "name": "stdout",
          "text": [
            "54.501\n"
          ]
        }
      ],
      "source": [
        "import random\n",
        "\n",
        "(times, yes) = (100000, 0)\n",
        "\n",
        "for t in range(times):\n",
        "  s = \"\"\n",
        "  for i in range(100):\n",
        "    coin = random.randint(0, 1)\n",
        "    s = str(coin) + s\n",
        "  if \"111111\" in s: # or \"000000\" in s:\n",
        "    yes += 1\n",
        "print( yes / times * 100)\n"
      ]
    },
    {
      "cell_type": "code",
      "source": [
        "size=43\n",
        "for i in range(size):\n",
        "  for j in range(size):\n",
        "    if (i + j == int(size/2) or i == size//2 and j <= size*3/4 or j == size//2 and i >= size//3) :\n",
        "      print(\"* \",end=\"\")\n",
        "    else:\n",
        "      print(\"  \",end=\"\")\n",
        "  print()"
      ],
      "metadata": {
        "colab": {
          "base_uri": "https://localhost:8080/"
        },
        "id": "lD1kNAQpgjhS",
        "outputId": "fe025f80-406b-4e33-baa4-a0b462a1ff85"
      },
      "execution_count": null,
      "outputs": [
        {
          "output_type": "stream",
          "name": "stdout",
          "text": [
            "                                          *                                           \n",
            "                                        *                                             \n",
            "                                      *                                               \n",
            "                                    *                                                 \n",
            "                                  *                                                   \n",
            "                                *                                                     \n",
            "                              *                                                       \n",
            "                            *                                                         \n",
            "                          *                                                           \n",
            "                        *                                                             \n",
            "                      *                                                               \n",
            "                    *                                                                 \n",
            "                  *                                                                   \n",
            "                *                                                                     \n",
            "              *                           *                                           \n",
            "            *                             *                                           \n",
            "          *                               *                                           \n",
            "        *                                 *                                           \n",
            "      *                                   *                                           \n",
            "    *                                     *                                           \n",
            "  *                                       *                                           \n",
            "* * * * * * * * * * * * * * * * * * * * * * * * * * * * * * * * *                     \n",
            "                                          *                                           \n",
            "                                          *                                           \n",
            "                                          *                                           \n",
            "                                          *                                           \n",
            "                                          *                                           \n",
            "                                          *                                           \n",
            "                                          *                                           \n",
            "                                          *                                           \n",
            "                                          *                                           \n",
            "                                          *                                           \n",
            "                                          *                                           \n",
            "                                          *                                           \n",
            "                                          *                                           \n",
            "                                          *                                           \n",
            "                                          *                                           \n",
            "                                          *                                           \n",
            "                                          *                                           \n",
            "                                          *                                           \n",
            "                                          *                                           \n",
            "                                          *                                           \n",
            "                                          *                                           \n"
          ]
        }
      ]
    },
    {
      "cell_type": "code",
      "source": [],
      "metadata": {
        "id": "MlQGVxECo9h7"
      },
      "execution_count": null,
      "outputs": []
    }
  ]
}