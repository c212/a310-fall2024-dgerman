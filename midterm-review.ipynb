{
  "nbformat": 4,
  "nbformat_minor": 0,
  "metadata": {
    "colab": {
      "provenance": []
    },
    "kernelspec": {
      "name": "python3",
      "display_name": "Python 3"
    },
    "language_info": {
      "name": "python"
    }
  },
  "cells": [
    {
      "cell_type": "markdown",
      "source": [
        "A310 Fall 2024 Midterm Problems"
      ],
      "metadata": {
        "id": "7gky51Zh7wdY"
      }
    },
    {
      "cell_type": "markdown",
      "source": [
        "The first 7-8 problems stress the need to model your simulation accurately.\n",
        "\n",
        "1. Estimate the probability of getting six heads in a row if you throw a coin 100 times"
      ],
      "metadata": {
        "id": "vPVTB9Jb7_ia"
      }
    },
    {
      "cell_type": "code",
      "source": [
        "import random\n",
        "\n",
        "(times, yes) = (100000, 0)\n",
        "\n",
        "for t in range(times):\n",
        "  s = \"\"\n",
        "  for i in range(100):\n",
        "    coin = random.randint(0, 1)\n",
        "    s = str(coin) + s\n",
        "  if \"111111\" in s: # let's say heads is 1\n",
        "    yes += 1\n",
        "print( yes / times * 100)"
      ],
      "metadata": {
        "colab": {
          "base_uri": "https://localhost:8080/"
        },
        "id": "KDq7HIcP8Qlh",
        "outputId": "992f71f2-8d09-47e1-ec9c-6d37aa9e4f0e"
      },
      "execution_count": 6,
      "outputs": [
        {
          "output_type": "stream",
          "name": "stdout",
          "text": [
            "54.69500000000001\n"
          ]
        }
      ]
    },
    {
      "cell_type": "markdown",
      "source": [
        "Notice in problem above we only care about heads and probability is about 54%.\n",
        "\n",
        "2. Estimate the probability of getting six tails in a row if you throw a coin 100 times."
      ],
      "metadata": {
        "id": "5Ug54jIV8n_W"
      }
    },
    {
      "cell_type": "code",
      "source": [
        "import random\n",
        "\n",
        "(times, yes) = (100000, 0)\n",
        "\n",
        "for t in range(times):\n",
        "  s = \"\"\n",
        "  for i in range(100):\n",
        "    coin = random.randint(0, 1)\n",
        "    s = str(coin) + s\n",
        "  if \"000000\" in s: # tails\n",
        "    yes += 1\n",
        "print( yes / times * 100)"
      ],
      "metadata": {
        "colab": {
          "base_uri": "https://localhost:8080/"
        },
        "id": "Zy9VMYYh846L",
        "outputId": "69eea25a-3c20-4ba9-8e0c-163b39a715ee"
      },
      "execution_count": 7,
      "outputs": [
        {
          "output_type": "stream",
          "name": "stdout",
          "text": [
            "54.461000000000006\n"
          ]
        }
      ]
    },
    {
      "cell_type": "markdown",
      "source": [
        "Problem is identical, completely symmetrical.\n",
        "\n",
        "3. Estimate the probability of getting six heads (or tails) in a row when you throw a coin 100 times."
      ],
      "metadata": {
        "id": "-ZTTNTkq9O78"
      }
    },
    {
      "cell_type": "code",
      "source": [
        "import random\n",
        "\n",
        "(times, yes) = (100000, 0)\n",
        "\n",
        "for t in range(times):\n",
        "  s = \"\"\n",
        "  for i in range(100):\n",
        "    coin = random.randint(0, 1)\n",
        "    s = str(coin) + s\n",
        "  if \"000000\" in s or \"111111\" in s:\n",
        "    yes += 1\n",
        "print( yes / times * 100)"
      ],
      "metadata": {
        "colab": {
          "base_uri": "https://localhost:8080/"
        },
        "id": "FMGnIpNT9nCE",
        "outputId": "98f952dd-5087-434c-a1c3-a97f968831ff"
      },
      "execution_count": 8,
      "outputs": [
        {
          "output_type": "stream",
          "name": "stdout",
          "text": [
            "80.601\n"
          ]
        }
      ]
    },
    {
      "cell_type": "markdown",
      "source": [
        "So there are two ways of getting 54% and only one 80%.\n",
        "\n",
        "4. Estimate the probability of getting both six heads and six tails in a row when you throw a coin 100 times."
      ],
      "metadata": {
        "id": "l9kpAcxz9yV-"
      }
    },
    {
      "cell_type": "code",
      "source": [
        "import random\n",
        "\n",
        "(times, yes) = (100000, 0)\n",
        "\n",
        "for t in range(times):\n",
        "  s = \"\"\n",
        "  for i in range(100):\n",
        "    coin = random.randint(0, 1)\n",
        "    s = str(coin) + s\n",
        "  if \"000000\" in s and \"111111\" in s:\n",
        "    yes += 1\n",
        "print( yes / times * 100)"
      ],
      "metadata": {
        "colab": {
          "base_uri": "https://localhost:8080/"
        },
        "id": "KfG2LfEf9_Sk",
        "outputId": "d2260589-3681-400b-8331-caa0f90e4a81"
      },
      "execution_count": 9,
      "outputs": [
        {
          "output_type": "stream",
          "name": "stdout",
          "text": [
            "28.462\n"
          ]
        }
      ]
    },
    {
      "cell_type": "markdown",
      "source": [
        "So that's how we get the 28%.\n",
        "\n",
        "5. Estimate the chance of getting six heads in a row (but not six tails in a row) when you throw a coin 100 times."
      ],
      "metadata": {
        "id": "CyAd7aPs-M1M"
      }
    },
    {
      "cell_type": "code",
      "source": [
        "import random\n",
        "\n",
        "(times, yes) = (100000, 0)\n",
        "\n",
        "for t in range(times):\n",
        "  s = \"\"\n",
        "  for i in range(100):\n",
        "    coin = random.randint(0, 1)\n",
        "    s = str(coin) + s\n",
        "  if \"111111\" in s and \"000000\" not in s: # heads is 1\n",
        "    yes += 1\n",
        "print( yes / times * 100)"
      ],
      "metadata": {
        "colab": {
          "base_uri": "https://localhost:8080/"
        },
        "id": "hKBYBKc--Zr2",
        "outputId": "605f67a2-5806-4441-d414-6c6fe73d74b4"
      },
      "execution_count": 12,
      "outputs": [
        {
          "output_type": "stream",
          "name": "stdout",
          "text": [
            "25.873\n"
          ]
        }
      ]
    },
    {
      "cell_type": "markdown",
      "source": [
        "This is a new result for us (about 26%).\n",
        "\n",
        "6. Estimate probability of six tails in a row (but not six heads in a row when you throw a coin 100 times.\n",
        "\n",
        "This is identical to the previous program where we replace 0 with 1 and 1 with 0."
      ],
      "metadata": {
        "id": "7OZgbus8_KYE"
      }
    },
    {
      "cell_type": "code",
      "source": [
        "import random\n",
        "\n",
        "(times, yes) = (100000, 0)\n",
        "\n",
        "for t in range(times):\n",
        "  s = \"\"\n",
        "  for i in range(100):\n",
        "    coin = random.randint(0, 1)\n",
        "    s = str(coin) + s\n",
        "  if \"000000\" in s and \"111111\" not in s: # heads is 1\n",
        "    yes += 1\n",
        "print( yes / times * 100)"
      ],
      "metadata": {
        "colab": {
          "base_uri": "https://localhost:8080/"
        },
        "id": "NDZ5S3ca_5c_",
        "outputId": "a01b701f-6e8b-4a2c-b023-02749e1e897c"
      },
      "execution_count": 13,
      "outputs": [
        {
          "output_type": "stream",
          "name": "stdout",
          "text": [
            "26.21\n"
          ]
        }
      ]
    },
    {
      "cell_type": "markdown",
      "source": [
        "7. Estimate the probability of getting 6 heads in a row (when you throw a coin 6 times)."
      ],
      "metadata": {
        "id": "_ZumM6DTAOgC"
      }
    },
    {
      "cell_type": "code",
      "source": [
        "import random\n",
        "\n",
        "(times, yes) = (100000, 0)\n",
        "\n",
        "for t in range(times):\n",
        "  s = \"\"\n",
        "  for i in range(6):\n",
        "    coin = random.randint(0, 1)\n",
        "    s = str(coin) + s\n",
        "  if \"111111\" == s: # heads is 1\n",
        "    yes += 1\n",
        "print( yes / times * 100)"
      ],
      "metadata": {
        "colab": {
          "base_uri": "https://localhost:8080/"
        },
        "id": "inK5gPIKATdj",
        "outputId": "b4e961b0-3b98-4b07-a6f6-0a4cfef65516"
      },
      "execution_count": 14,
      "outputs": [
        {
          "output_type": "stream",
          "name": "stdout",
          "text": [
            "1.542\n"
          ]
        }
      ]
    },
    {
      "cell_type": "markdown",
      "source": [
        "The chance of getting six tails in a row when you throw a coin 6 times is the same.\n",
        "\n",
        "8. Estimate the probability of getting either six tails or six heads in a row when you throw a coin 6 times.\n"
      ],
      "metadata": {
        "id": "uj7iNUBzA3Lk"
      }
    },
    {
      "cell_type": "code",
      "source": [
        "import random\n",
        "\n",
        "(times, yes) = (100000, 0)\n",
        "\n",
        "for t in range(times):\n",
        "  s = \"\"\n",
        "  for i in range(6):\n",
        "    coin = random.randint(0, 1)\n",
        "    s = str(coin) + s\n",
        "  if s in [\"000000\", \"111111\"]: # heads is 1\n",
        "    yes += 1\n",
        "print( yes / times * 100)"
      ],
      "metadata": {
        "colab": {
          "base_uri": "https://localhost:8080/"
        },
        "id": "1VYxjVltBJDH",
        "outputId": "aefc274d-8d63-4c0d-cd31-5259db1d7262"
      },
      "execution_count": 17,
      "outputs": [
        {
          "output_type": "stream",
          "name": "stdout",
          "text": [
            "3.086\n"
          ]
        }
      ]
    },
    {
      "cell_type": "markdown",
      "source": [
        "Unsurprisingly, the value is twice as big.\n",
        "\n",
        "These last two exercises in reference to a different modeling approach explained in class on Thu 09/26."
      ],
      "metadata": {
        "id": "xLt0c11VBTyy"
      }
    },
    {
      "cell_type": "code",
      "source": [
        "import random\n",
        "\n",
        "(yes, times) = (0, 10000)\n",
        "\n",
        "for t in range(times):\n",
        "  r= \"\"\n",
        "  for i in range (100):\n",
        "    a = random.randint(0, 1)\n",
        "    r = r + str(a)\n",
        "  for j in range(100 - 6):\n",
        "    if r[0:6] in [\"000000\", \"111111\"]:\n",
        "      yes += 1\n",
        "      # print(r, \"***\")\n",
        "    # else:\n",
        "      # print (r)\n",
        "    r = r[1:]\n",
        "  # print(yes)\n",
        "print (yes / (times * 94) * 100)"
      ],
      "metadata": {
        "colab": {
          "base_uri": "https://localhost:8080/"
        },
        "id": "WO4M5dQCCNvU",
        "outputId": "17b5d199-ce83-464b-8e57-62fa5a447427"
      },
      "execution_count": 18,
      "outputs": [
        {
          "output_type": "stream",
          "name": "stdout",
          "text": [
            "3.115744680851064\n"
          ]
        }
      ]
    },
    {
      "cell_type": "markdown",
      "source": [
        "Sometimes convoluted approaches admit drastic simplifications.\n",
        "\n",
        "9. Implement QuickSort."
      ],
      "metadata": {
        "id": "yjvgBkyPDICp"
      }
    },
    {
      "cell_type": "code",
      "source": [
        "q = lambda l: q([x for x in l[1:] if x <= l[0]]) + [l[0]] + q([x for x in l if x > l[0]]) if l else []\n",
        "\n",
        "q([4, 7, 2, 6, 1, 3, 5, 2, 3, 0, 4])"
      ],
      "metadata": {
        "colab": {
          "base_uri": "https://localhost:8080/"
        },
        "id": "nin0Z_BeDPyl",
        "outputId": "c3508196-ff7d-4168-abcf-c20a8330b095"
      },
      "execution_count": 20,
      "outputs": [
        {
          "output_type": "execute_result",
          "data": {
            "text/plain": [
              "[0, 1, 2, 2, 3, 3, 4, 4, 5, 6, 7]"
            ]
          },
          "metadata": {},
          "execution_count": 20
        }
      ]
    },
    {
      "cell_type": "markdown",
      "source": [
        "This is from Python One-Liners, first two chapters are very instructive.\n",
        "\n",
        "There is also QuickSort in Chapter 9 of Ace the Data Science Interview.\n",
        "\n",
        "As long as you do it well you are also welcome to not use a one-liner.\n",
        "\n",
        "10. Scalable pattern: 4"
      ],
      "metadata": {
        "id": "3dvFVr-nD2QY"
      }
    },
    {
      "cell_type": "code",
      "source": [
        "size=43\n",
        "for i in range(size):\n",
        "  for j in range(size):\n",
        "    if (i + j == int(size/2) or i == size//2 and j <= size*3/4 or j == size//2 and i >= size//3) :\n",
        "      print(\"* \",end=\"\")\n",
        "    else:\n",
        "      print(\"  \",end=\"\")\n",
        "  print()"
      ],
      "metadata": {
        "colab": {
          "base_uri": "https://localhost:8080/"
        },
        "id": "j3g9Sym6EGBG",
        "outputId": "838e1154-e0fc-439b-f76a-df665418c60a"
      },
      "execution_count": 21,
      "outputs": [
        {
          "output_type": "stream",
          "name": "stdout",
          "text": [
            "                                          *                                           \n",
            "                                        *                                             \n",
            "                                      *                                               \n",
            "                                    *                                                 \n",
            "                                  *                                                   \n",
            "                                *                                                     \n",
            "                              *                                                       \n",
            "                            *                                                         \n",
            "                          *                                                           \n",
            "                        *                                                             \n",
            "                      *                                                               \n",
            "                    *                                                                 \n",
            "                  *                                                                   \n",
            "                *                                                                     \n",
            "              *                           *                                           \n",
            "            *                             *                                           \n",
            "          *                               *                                           \n",
            "        *                                 *                                           \n",
            "      *                                   *                                           \n",
            "    *                                     *                                           \n",
            "  *                                       *                                           \n",
            "* * * * * * * * * * * * * * * * * * * * * * * * * * * * * * * * *                     \n",
            "                                          *                                           \n",
            "                                          *                                           \n",
            "                                          *                                           \n",
            "                                          *                                           \n",
            "                                          *                                           \n",
            "                                          *                                           \n",
            "                                          *                                           \n",
            "                                          *                                           \n",
            "                                          *                                           \n",
            "                                          *                                           \n",
            "                                          *                                           \n",
            "                                          *                                           \n",
            "                                          *                                           \n",
            "                                          *                                           \n",
            "                                          *                                           \n",
            "                                          *                                           \n",
            "                                          *                                           \n",
            "                                          *                                           \n",
            "                                          *                                           \n",
            "                                          *                                           \n",
            "                                          *                                           \n"
          ]
        }
      ]
    },
    {
      "cell_type": "markdown",
      "source": [
        "11. Scalable pattern: Q"
      ],
      "metadata": {
        "id": "BEwXPJlSEjA6"
      }
    },
    {
      "cell_type": "code",
      "source": [
        "size=23\n",
        "for i in range(size):\n",
        "  for j in range(size):\n",
        "    if (i + j == int(size/2) or i - j == size//2 or i - j == -size//2 or i + j == 3*size//2 or i == j and j > size//2):\n",
        "      print(\"* \",end=\"\")\n",
        "    else:\n",
        "      print(\"  \",end=\"\")\n",
        "  print()"
      ],
      "metadata": {
        "colab": {
          "base_uri": "https://localhost:8080/"
        },
        "id": "shN3rOeIEpNQ",
        "outputId": "fe66ee94-a52a-4f07-ee59-2be6ed43875e"
      },
      "execution_count": 30,
      "outputs": [
        {
          "output_type": "stream",
          "name": "stdout",
          "text": [
            "                      * *                     \n",
            "                    *     *                   \n",
            "                  *         *                 \n",
            "                *             *               \n",
            "              *                 *             \n",
            "            *                     *           \n",
            "          *                         *         \n",
            "        *                             *       \n",
            "      *                                 *     \n",
            "    *                                     *   \n",
            "  *                                         * \n",
            "*                                             \n",
            "  *                     *                   * \n",
            "    *                     *               *   \n",
            "      *                     *           *     \n",
            "        *                     *       *       \n",
            "          *                     *   *         \n",
            "            *                     *           \n",
            "              *                 *   *         \n",
            "                *             *       *       \n",
            "                  *         *           *     \n",
            "                    *     *               *   \n",
            "                      * *                   * \n"
          ]
        }
      ]
    },
    {
      "cell_type": "markdown",
      "source": [
        "12. Scalable pattern: Z"
      ],
      "metadata": {
        "id": "shrW0RF8FZzh"
      }
    },
    {
      "cell_type": "code",
      "source": [
        "size=17\n",
        "for i in range(size):\n",
        "  for j in range(size):\n",
        "    if ( i == 0 or i == size-1 or i+j == size-1 or i == size//2 and j > size//4 and j < 3*size//4) :\n",
        "      print(\"* \",end=\"\")\n",
        "    else:\n",
        "      print(\"  \",end=\"\")\n",
        "  print()"
      ],
      "metadata": {
        "colab": {
          "base_uri": "https://localhost:8080/"
        },
        "id": "HGEOuSrhE1L2",
        "outputId": "cd906cf9-1e3d-416e-809f-889094c19deb"
      },
      "execution_count": 35,
      "outputs": [
        {
          "output_type": "stream",
          "name": "stdout",
          "text": [
            "* * * * * * * * * * * * * * * * * \n",
            "                              *   \n",
            "                            *     \n",
            "                          *       \n",
            "                        *         \n",
            "                      *           \n",
            "                    *             \n",
            "                  *               \n",
            "          * * * * * * *           \n",
            "              *                   \n",
            "            *                     \n",
            "          *                       \n",
            "        *                         \n",
            "      *                           \n",
            "    *                             \n",
            "  *                               \n",
            "* * * * * * * * * * * * * * * * * \n"
          ]
        }
      ]
    },
    {
      "cell_type": "markdown",
      "source": [
        "13. Model a Fraction (numerator, denominator). Fractions can add, multiply."
      ],
      "metadata": {
        "id": "Fy_psTmXFyGL"
      }
    },
    {
      "cell_type": "code",
      "source": [
        "class Fraction:\n",
        "    def __init__(self, num, den):\n",
        "        self.num = num\n",
        "        self.den = den\n",
        "    def __str__(self):\n",
        "        return str(self.num) + \"/\" + str(self.den)\n",
        "    def __add__(self, other):\n",
        "        return Fraction(self.num * other.den + self.den * other.num, self.den * other.den)\n",
        "    def __mul__(self, other):\n",
        "        return Fraction(self.num * other.num, self.den * other.den)\n",
        "\n",
        "f1 = Fraction(1, 2)\n",
        "f2 = Fraction(2, 3)\n",
        "print(f1, \"+\", f2, \"=\", f1+f2)\n",
        "print(f1, \"*\", f2, \"=\", f1 * f2)"
      ],
      "metadata": {
        "colab": {
          "base_uri": "https://localhost:8080/"
        },
        "id": "6EZz6-j4F6T-",
        "outputId": "96b23ca3-ae1e-4d11-ec0c-cf192afa3bfe"
      },
      "execution_count": 79,
      "outputs": [
        {
          "output_type": "stream",
          "name": "stdout",
          "text": [
            "1/2 + 2/3 = 7/6\n",
            "1/2 * 2/3 = 2/6\n"
          ]
        }
      ]
    },
    {
      "cell_type": "markdown",
      "source": [
        "14. Model a point in the plane. A point should be able to report its distance to any other point.\n"
      ],
      "metadata": {
        "id": "5YK4uRHWF75u"
      }
    },
    {
      "cell_type": "code",
      "source": [
        "import math\n",
        "\n",
        "class Point:\n",
        "    def __init__(self, x, y):\n",
        "        self.x = x\n",
        "        self.y = y\n",
        "    def __str__(self):\n",
        "        return \"(\" + str(self.x) + \", \" + str(self.y) + \")\"\n",
        "    def distanceTo(self, other):\n",
        "        distance = math.sqrt((self.x - other.x)**2 + (self.y - other.y)**2)\n",
        "        # return \"The distance between the two points is: \" + str(distance)\n",
        "        return distance\n",
        "\n",
        "a = Point(2, 3)\n",
        "\n",
        "b = Point(1, 1)\n",
        "print(b.distanceTo(a))"
      ],
      "metadata": {
        "colab": {
          "base_uri": "https://localhost:8080/"
        },
        "id": "QTkYnKFsGFMH",
        "outputId": "410a4e8a-4538-4e95-bfb8-90fdd657b01a"
      },
      "execution_count": 80,
      "outputs": [
        {
          "output_type": "stream",
          "name": "stdout",
          "text": [
            "2.23606797749979\n"
          ]
        }
      ]
    },
    {
      "cell_type": "markdown",
      "source": [
        "15. Model a line in the plane. A line should be able to report its length.\n"
      ],
      "metadata": {
        "id": "wfZjr6SHGGaH"
      }
    },
    {
      "cell_type": "code",
      "source": [
        "class Line:\n",
        "    def __init__(self, p1, p2):\n",
        "        self.p1 = p1\n",
        "        self.p2 = p2\n",
        "    def __str__(self):\n",
        "        return \"(\" + str(self.p1) + \", \" + str(self.p2) + \")\"\n",
        "    def length(self):\n",
        "        a = self.p2.distanceTo(self.p1)\n",
        "        return a\n",
        "\n",
        "(Line(a, b)).length()"
      ],
      "metadata": {
        "colab": {
          "base_uri": "https://localhost:8080/"
        },
        "id": "nu8OUnnHGKHH",
        "outputId": "41f1a755-3170-4fc7-b94a-37f516ca51dd"
      },
      "execution_count": 81,
      "outputs": [
        {
          "output_type": "execute_result",
          "data": {
            "text/plain": [
              "2.23606797749979"
            ]
          },
          "metadata": {},
          "execution_count": 81
        }
      ]
    },
    {
      "cell_type": "markdown",
      "source": [
        "16. Model a triangle in the plane. Triangle objects should be able to report their area.\n"
      ],
      "metadata": {
        "id": "XN3vQyArGLn8"
      }
    },
    {
      "cell_type": "code",
      "source": [
        "class Triangle:\n",
        "    def __init__(self, p1, p2, p3):\n",
        "        self.l1 = Line(p1,p2)\n",
        "        self.l2 = Line(p2,p3)\n",
        "        self.l3 = Line(p3,p1)\n",
        "    def __str__(self):\n",
        "        return \"Triangle {\" + str(self.l1.p1) + \", \" + str(self.l2.p1) + \", \" + str(self.l3.p1) + \"}\"\n",
        "    def area(self):\n",
        "        x = (self.l1.length() + self.l2.length() + self.l3.length())/2\n",
        "        a = math.sqrt(x*(x - self.l1.length())*(x - self.l2.length())*(x - self.l3.length()))\n",
        "        return a\n",
        "\n",
        "t = Triangle( Point(0, 0), Point(3, 0), Point(0, 4) )\n",
        "\n",
        "t.area()"
      ],
      "metadata": {
        "colab": {
          "base_uri": "https://localhost:8080/"
        },
        "id": "dn3vVjM4GOvf",
        "outputId": "f9fefb1e-e668-471f-8d55-98271c7bd9c5"
      },
      "execution_count": 82,
      "outputs": [
        {
          "output_type": "execute_result",
          "data": {
            "text/plain": [
              "6.0"
            ]
          },
          "metadata": {},
          "execution_count": 82
        }
      ]
    },
    {
      "cell_type": "markdown",
      "source": [
        "17. Model a linked list. Operations: first, rest, length, push, pop, append (snoc).\n"
      ],
      "metadata": {
        "id": "VUTmLpOBGPoO"
      }
    },
    {
      "cell_type": "code",
      "source": [
        "class LinkedList:\n",
        "    def __init__(self, num, next):\n",
        "        self.num = num\n",
        "        self.next = next\n",
        "    def show(self):\n",
        "        temp = self\n",
        "        result = \"\"\n",
        "        while (temp):\n",
        "            # print(temp.num)\n",
        "            result = result + \"|\" + temp.num + \"|\"\n",
        "            temp = temp.next\n",
        "        print(result)\n",
        "    def length(self):\n",
        "        (temp, num) = (self, 0)\n",
        "        while temp is not None:\n",
        "            num += 1\n",
        "            temp = temp.next\n",
        "        return num\n",
        "    def add(self, value):\n",
        "        return LinkedList(value, self)\n",
        "    def rest(self):\n",
        "        if self.next is None:\n",
        "            return None\n",
        "        else:\n",
        "            return self.next\n",
        "    def append(self, value):\n",
        "        if self.next is None:\n",
        "            self.next = LinkedList(value, None)\n",
        "        else:\n",
        "            self.next.append(value)\n",
        "\n",
        "\n",
        "print(\"---------------------------Class LinkedList---------------------------\")\n",
        "a = LinkedList(\"Christa\", None)\n",
        "a = LinkedList(\"Ahmed\", a)\n",
        "a.show()\n",
        "a = a.add(\"Leslie\")\n",
        "a.show()\n",
        "print(a.length())\n",
        "a.append(\"Laura\")\n",
        "a.show()\n",
        "print(a.length())"
      ],
      "metadata": {
        "colab": {
          "base_uri": "https://localhost:8080/"
        },
        "id": "oUMe6IvYGTQp",
        "outputId": "9f138534-50bf-4606-fa2c-5943a3769fdd"
      },
      "execution_count": 98,
      "outputs": [
        {
          "output_type": "stream",
          "name": "stdout",
          "text": [
            "---------------------------Class LinkedList---------------------------\n",
            "|Ahmed||Christa|\n",
            "|Leslie||Ahmed||Christa|\n",
            "3\n",
            "|Leslie||Ahmed||Christa||Laura|\n",
            "4\n"
          ]
        }
      ]
    },
    {
      "cell_type": "markdown",
      "source": [
        "18. Model a binary search tree. Operations: show, find, insert, delete."
      ],
      "metadata": {
        "id": "Zc8C9VabGUx5"
      }
    },
    {
      "cell_type": "code",
      "source": [
        "def largestIn(tree):\n",
        "    if tree.right == None:\n",
        "        return tree.value\n",
        "    else:\n",
        "        return largestIn(tree.right)\n",
        "\n",
        "class Tree:\n",
        "    def __init__(self, value, left, right):\n",
        "        (self.value, self.left, self.right) = (value, left, right)\n",
        "    def show(self):\n",
        "        if self.left == None:\n",
        "            left = \" . \"\n",
        "        else:\n",
        "            left = self.left.show()\n",
        "        if self.right == None:\n",
        "            right = \" . \"\n",
        "        else:\n",
        "            right = self.right.show()\n",
        "        return \"(\" + str(self.value) + \" \" + left + \" \" + right + \")\"\n",
        "    def insert(self, value):\n",
        "        if value < self.value:\n",
        "          if self.left is None:\n",
        "            self.left = Tree(value, None, None)\n",
        "          else:\n",
        "            self.left.insert(value)\n",
        "        else:\n",
        "          if self.right is None:\n",
        "            self.right = Tree(value, None, None)\n",
        "          else:\n",
        "            self.right.insert(value)\n",
        "    def find(self, value):\n",
        "      if self.value == value:\n",
        "          return True\n",
        "      elif self.value < value:\n",
        "          if self.left is None:\n",
        "              return False\n",
        "          else:\n",
        "              return self.left.find(value)\n",
        "      else:\n",
        "          if self.right is None:\n",
        "              return False\n",
        "          else:\n",
        "              return self.right.find(value)\n",
        "    def remove(self, value):\n",
        "        if self.value == value:\n",
        "            if self.left == None:\n",
        "                return self.right\n",
        "            else:\n",
        "                a = largestIn(self.left)\n",
        "                return Tree(a, self.left.remove(a), self.right)\n",
        "        elif self.value > value: # I assume the value can be found in\n",
        "            return Tree(self.value, self.left.remove(value), self.right)\n",
        "        else: # if the value does not exist the code needs to protect itself against that\n",
        "            return Tree(self.value, self.left, self.right.remove(value))\n",
        "\n",
        "\n",
        "a = Tree(5, None, None)\n",
        "a.insert(3)\n",
        "a.insert(4)\n",
        "print(a.show()) # (3 . (5 (4 . .) .))\n",
        "print(a.find(5))\n",
        "b = a.remove(5)\n",
        "print(a.find(5))\n",
        "print(\"Remove 5 the tree becomes: \" + b.show())\n",
        "print(b.find(5))"
      ],
      "metadata": {
        "colab": {
          "base_uri": "https://localhost:8080/"
        },
        "id": "uyc37-lzGV-V",
        "outputId": "823bc866-79ee-4e95-9b4e-8e381580b54d"
      },
      "execution_count": 108,
      "outputs": [
        {
          "output_type": "stream",
          "name": "stdout",
          "text": [
            "(5 (3  .  (4  .   . ))  . )\n",
            "True\n",
            "True\n",
            "Remove 5 the tree becomes: (4 (3  .   . )  . )\n",
            "False\n"
          ]
        }
      ]
    },
    {
      "cell_type": "markdown",
      "source": [
        "19. Write regular expression program to identify digits in input by wrapping them in parens."
      ],
      "metadata": {
        "id": "8LXmO3N1GXOG"
      }
    },
    {
      "cell_type": "code",
      "source": [
        "import re\n",
        "s = \" One number 165243 and another one 12734 \"\n",
        "p20 = re.sub(r'(\\d)', lambda m: \"(\" + m.group(1) + \")\", s)\n",
        "print(p20)"
      ],
      "metadata": {
        "colab": {
          "base_uri": "https://localhost:8080/"
        },
        "id": "lH50_5BdG62a",
        "outputId": "0733e601-a0f9-4f5e-8e10-54094770c530"
      },
      "execution_count": 116,
      "outputs": [
        {
          "output_type": "stream",
          "name": "stdout",
          "text": [
            " One number (1)(6)(5)(2)(4)(3) and another one (1)(2)(7)(3)(4) \n"
          ]
        }
      ]
    },
    {
      "cell_type": "markdown",
      "source": [
        "20. Write regular expression program to swap adjacent digits in input."
      ],
      "metadata": {
        "id": "mdsYZY9xG9aU"
      }
    },
    {
      "cell_type": "code",
      "source": [
        "import re\n",
        "s = \" One number 165243 and another one 12734 \"\n",
        "p20 = re.sub(r'(\\d)(\\d)', lambda m: m.group(2) + m.group(1), s)\n",
        "print(p20)"
      ],
      "metadata": {
        "colab": {
          "base_uri": "https://localhost:8080/"
        },
        "id": "_M-FXvYnHEjp",
        "outputId": "a02adf6b-3f53-4f4e-a5aa-0d42e089c44b"
      },
      "execution_count": 114,
      "outputs": [
        {
          "output_type": "stream",
          "name": "stdout",
          "text": [
            " One number 612534 and another one 21374 \n"
          ]
        }
      ]
    },
    {
      "cell_type": "markdown",
      "source": [
        "21. Write regular expression program to add and replace adjacent digits in input."
      ],
      "metadata": {
        "id": "4bduh60GHFwK"
      }
    },
    {
      "cell_type": "code",
      "source": [
        "import re\n",
        "s = \" 165243 12734 \"\n",
        "p21 = re.sub(r'(\\d)(\\d)', lambda m: str(int(m.group(1)) + int(m.group(2))), s)\n",
        "print(p21)\n"
      ],
      "metadata": {
        "colab": {
          "base_uri": "https://localhost:8080/"
        },
        "id": "Zsz8M6fBHNKM",
        "outputId": "12332e53-8399-45ac-df70-8d097219924a"
      },
      "execution_count": 109,
      "outputs": [
        {
          "output_type": "stream",
          "name": "stdout",
          "text": [
            " 777 3104 \n"
          ]
        }
      ]
    },
    {
      "cell_type": "markdown",
      "source": [
        "22. Write program to create magic square. Model a matrix with dictionaries."
      ],
      "metadata": {
        "id": "KWDcrwqnHOKN"
      }
    },
    {
      "cell_type": "code",
      "source": [
        "def magic(size):\n",
        "  d = {}\n",
        "  d[\"size\"] = size\n",
        "  k = 1\n",
        "  (row, col) = (size-1, size//2)\n",
        "  while k <= size * size:\n",
        "    d[row, col] = k\n",
        "    k += 1\n",
        "    (nuRow, nuCol) = ((row + 1) % size, (col + 1) % size)\n",
        "    if ((nuRow, nuCol) in d):\n",
        "      (row, col) = (row - 1, col)\n",
        "    else:\n",
        "      (row, col) = (nuRow, nuCol)\n",
        "  return d\n",
        "\n",
        "def show(m):\n",
        "  for i in range(d[\"size\"]):\n",
        "      for j in range(d[\"size\"]):\n",
        "        print(\"%3s\" % d[i, j], end=\"\")\n",
        "      print()\n",
        "\n",
        "d = magic(3)\n",
        "show(d)\n",
        "print(\"---------\")\n",
        "d = magic(5)\n",
        "show(d)\n",
        "print(\"---------\")\n",
        "d = magic(9)\n",
        "show(d)"
      ],
      "metadata": {
        "colab": {
          "base_uri": "https://localhost:8080/"
        },
        "id": "CReFcKT2HWND",
        "outputId": "912db67c-7a78-4221-b9b7-5f6158198ae4"
      },
      "execution_count": 70,
      "outputs": [
        {
          "output_type": "stream",
          "name": "stdout",
          "text": [
            "  4  9  2\n",
            "  3  5  7\n",
            "  8  1  6\n",
            "---------\n",
            " 11 18 25  2  9\n",
            " 10 12 19 21  3\n",
            "  4  6 13 20 22\n",
            " 23  5  7 14 16\n",
            " 17 24  1  8 15\n",
            "---------\n",
            " 37 48 59 70 81  2 13 24 35\n",
            " 36 38 49 60 71 73  3 14 25\n",
            " 26 28 39 50 61 72 74  4 15\n",
            " 16 27 29 40 51 62 64 75  5\n",
            "  6 17 19 30 41 52 63 65 76\n",
            " 77  7 18 20 31 42 53 55 66\n",
            " 67 78  8 10 21 32 43 54 56\n",
            " 57 68 79  9 11 22 33 44 46\n",
            " 47 58 69 80  1 12 23 34 45\n"
          ]
        }
      ]
    },
    {
      "cell_type": "markdown",
      "source": [
        "23. Given number in [0, 4] which letter grade is closest?"
      ],
      "metadata": {
        "id": "SCmd2cf_HXrA"
      }
    },
    {
      "cell_type": "code",
      "source": [
        "def convert(number):\n",
        "  letters = [\"F\", \"D-\", \"D\", \"D+\", \"C-\", \"C\", \"C+\", \"B-\", \"B\", \"B+\", \"A-\", \"A\"]\n",
        "  cutoffs = [ 0.35, 0.85, 1.15, 1.5, 1.85, 2.15, 2.5, 2.85, 3.15, 3.5, 3.85, 4 ]\n",
        "  numbers = [0, 0.7, 1, 1.3, 1.7, 2, 2.3, 2.7, 3, 3.3, 3.7, 4]\n",
        "  for i in range(len(letters)):\n",
        "    if number < cutoffs[i]:\n",
        "      return letters[i], numbers[i]\n",
        "  return \"A+\"\n",
        "\n",
        "for input in [2.85, 2.8, 2.89, 0.3, 0.4, 0.75, 3.9]:\n",
        "  letter = convert(input)\n",
        "  print(input, \"amounts to a letter grade of\", letter)"
      ],
      "metadata": {
        "colab": {
          "base_uri": "https://localhost:8080/"
        },
        "id": "nOT4yj1WHclD",
        "outputId": "ccfa397e-122a-4eec-8567-2475ac12a13c"
      },
      "execution_count": 49,
      "outputs": [
        {
          "output_type": "stream",
          "name": "stdout",
          "text": [
            "2.85 amounts to a letter grade of ('B', 3)\n",
            "2.8 amounts to a letter grade of ('B-', 2.7)\n",
            "2.89 amounts to a letter grade of ('B', 3)\n",
            "0.3 amounts to a letter grade of ('F', 0)\n",
            "0.4 amounts to a letter grade of ('D-', 0.7)\n",
            "0.75 amounts to a letter grade of ('D-', 0.7)\n",
            "3.9 amounts to a letter grade of ('A', 4)\n"
          ]
        }
      ]
    },
    {
      "cell_type": "markdown",
      "source": [
        "So that's basically it and we can discuss any and all of this on Tue. Midterm is on Thu."
      ],
      "metadata": {
        "id": "9zEQ8FcqUUEc"
      }
    }
  ]
}